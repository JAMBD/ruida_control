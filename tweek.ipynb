{
 "cells": [
  {
   "cell_type": "code",
   "execution_count": 885,
   "id": "lightweight-diary",
   "metadata": {},
   "outputs": [
    {
     "data": {
      "text/plain": [
       "<module 'decode' from '/home/bagel/lasercutter/decode.py'>"
      ]
     },
     "execution_count": 885,
     "metadata": {},
     "output_type": "execute_result"
    }
   ],
   "source": [
    "from matplotlib import pyplot as plt\n",
    "import matplotlib as mpl\n",
    "from dataclasses import dataclass\n",
    "import decode\n",
    "import numpy as np\n",
    "import importlib\n",
    "importlib.reload(decode)"
   ]
  },
  {
   "cell_type": "code",
   "execution_count": 886,
   "id": "technological-receipt",
   "metadata": {},
   "outputs": [],
   "source": [
    "filename = \"box.rd\"\n",
    "with open(filename, \"rb\") as f:\n",
    "    data = decode.unscramble(f.read())\n",
    "cmds = decode.parse_msgs(decode.split_msg(data))"
   ]
  },
  {
   "cell_type": "code",
   "execution_count": 888,
   "id": "metropolitan-weather",
   "metadata": {},
   "outputs": [],
   "source": [
    "def header(width, height, layers):\n",
    "    unpacked_msgs = [\n",
    "        decode.UploadFollows.from_values(),\n",
    "        decode.F0.from_values(),\n",
    "        decode.Start2.from_values(),\n",
    "        decode.LightRed.from_values(),\n",
    "        decode.Feedrate.from_values(x=0, y=0),\n",
    "        decode.E738.from_values(),\n",
    "        decode.Laser1TopLeft.from_values(x=0, y=0),\n",
    "        decode.Laser1BottomRight.from_values(x=width, y=height),\n",
    "        decode.Laser2TopLeft.from_values(x=0, y=0),\n",
    "        decode.Laser2BottomRight.from_values(x=width, y=height),\n",
    "        decode.E704.from_values(a=1, b=1, x=0, y=0),\n",
    "        decode.E705.from_values(),\n",
    "    ]\n",
    "\n",
    "    for layer in layers:\n",
    "        unpacked_msgs += layer.to_msg()\n",
    "\n",
    "    unpacked_msgs += [  \n",
    "        decode.LayerCount.from_values(layer_count=len(layers)-1),\n",
    "        decode.PenYOffset.from_values  (device=0, y=0),\n",
    "        decode.PenYOffset.from_values  (device=1, y=0),\n",
    "        decode.LaserYOffset.from_values(device=0, y=0),\n",
    "        decode.LaserYOffset.from_values(device=1, y=0),\n",
    "        decode.Offset.from_values(x=0, y=0),\n",
    "        decode.Start0.from_values(),\n",
    "        decode.Start1.from_values(),\n",
    "        decode.F200.from_values(),\n",
    "        decode.Offset2.from_values(x=0, y=0),\n",
    "        decode.BottomRight.from_values(x=width, y=height),\n",
    "        decode.F205.from_values(a=1, b=1, x=width, y=height),\n",
    "        decode.F206.from_values(x=0, y=0),\n",
    "        decode.F207.from_values(),\n",
    "        decode.F208.from_values(x=width, y=height),\n",
    "        decode.E70A.from_values(a=0),\n",
    "        decode.EA00.from_values(),\n",
    "        decode.E760.from_values(),\n",
    "        decode.E300.from_values(),\n",
    "        decode.E70B.from_values(),\n",
    "        decode.E713.from_values(a=0, b=0),\n",
    "        decode.E717.from_values(a=width, b=height),\n",
    "        decode.E723.from_values(a=0, b=0),\n",
    "        decode.E724.from_values(),\n",
    "        decode.E737.from_values(a=width, b=height),\n",
    "        decode.E708.from_values(unknown_a=1, unknown_b=1, x=width, y=height)\n",
    "    ]\n",
    "    return unpacked_msgs"
   ]
  },
  {
   "cell_type": "code",
   "execution_count": 914,
   "id": "wound-nevada",
   "metadata": {},
   "outputs": [
    {
     "data": {
      "text/plain": [
       "14754"
      ]
     },
     "execution_count": 914,
     "metadata": {},
     "output_type": "execute_result"
    }
   ],
   "source": [
    "scale_power(100)"
   ]
  },
  {
   "cell_type": "code",
   "execution_count": 915,
   "id": "extra-viking",
   "metadata": {},
   "outputs": [],
   "source": [
    "def scale_power(x):\n",
    "    # limit all use cases to 90 % \n",
    "    return int(x * 0.90 / 0.0061)\n",
    "\n",
    "layers = []\n",
    "for x in range(5):\n",
    "    for y in range(5):\n",
    "        layers.append(decode.LayerData(\n",
    "            color=(0, (x+1)/5.0, (y+1) / 5.0),\n",
    "            layer=x * 5 + y,\n",
    "            min_power=scale_power((x + 1) * 20),\n",
    "            max_power=scale_power((x + 1) * 20),\n",
    "            speed= (10 * (y + 1)) * 1000,\n",
    "            x_min=0, y_min=0,\n",
    "            x_max=0, y_max=0))\n",
    "\n",
    "\n",
    "unpacked_msgs = header(50000, 50000, layers)\n",
    "\n",
    "\n",
    "for x in range(5):\n",
    "    for y in range(5):\n",
    "        unpacked_msgs += layers[x * 5 + y].change_header()\n",
    "        \n",
    "        unpacked_msgs += [\n",
    "            decode.MoveAbs.from_values(x=int(0 + x * 10000), y=int(0 + y * 10000)),\n",
    "            decode.CutAbs.from_values(x=int(6000 + x * 10000), y=int(0 + y * 10000)),\n",
    "            decode.CutAbs.from_values(x=int(6000 + x * 10000), y=int(6000 + y * 10000)),\n",
    "            decode.CutAbs.from_values(x=int(0 + x * 10000), y=int(6000 + y * 10000)),\n",
    "            decode.CutAbs.from_values(x=int(0 + x * 10000), y=int(0 + y * 10000))]\n",
    "\n",
    "unpacked_msgs += [\n",
    "    decode.E4.from_values(),\n",
    "    decode.Finish.from_values(),\n",
    "    decode.E700.from_values(),\n",
    "    decode.DA01.from_values(a=800, x=80, y=80),\n",
    "    decode.EOF.from_values(),\n",
    "]"
   ]
  },
  {
   "cell_type": "code",
   "execution_count": 916,
   "id": "occupational-hurricane",
   "metadata": {},
   "outputs": [],
   "source": [
    "repacked = []\n",
    "    \n",
    "for i in unpacked_msgs:\n",
    "    if isinstance(i, decode.CmdMsg):\n",
    "        repacked += i.pack()\n",
    "        continue\n",
    "    repacked += i\n",
    "\n",
    "out_filename = \"repacked.rd\"\n",
    "with open(out_filename, \"wb\") as f:\n",
    "    f.write(bytearray(decode.scramble(repacked)))"
   ]
  },
  {
   "cell_type": "code",
   "execution_count": 909,
   "id": "acceptable-rolling",
   "metadata": {},
   "outputs": [
    {
     "data": {
      "image/png": "[encoded data removed]",
      "text/plain": [
       "<Figure size 720x360 with 1 Axes>"
      ]
     },
     "metadata": {
      "needs_background": "light"
     },
     "output_type": "display_data"
    }
   ],
   "source": [
    "# Output file inspection\n",
    "\n",
    "with open(out_filename, \"rb\") as f:\n",
    "    data = decode.unscramble(f.read())\n",
    "cmds = decode.parse_msgs(decode.split_msg(data))\n",
    "laser_sim = decode.LaserSimulator()\n",
    "\n",
    "for i in cmds:\n",
    "    if isinstance(i, decode.CmdMsg):\n",
    "        i.update(laser_sim)\n",
    "laser_sim.show()\n"
   ]
  }
 ],
 "metadata": {
  "kernelspec": {
   "display_name": "Python 3",
   "language": "python",
   "name": "python3"
  },
  "language_info": {
   "codemirror_mode": {
    "name": "ipython",
    "version": 3
   },
   "file_extension": ".py",
   "mimetype": "text/x-python",
   "name": "python",
   "nbconvert_exporter": "python",
   "pygments_lexer": "ipython3",
   "version": "3.6.9"
  }
 },
 "nbformat": 4,
 "nbformat_minor": 5
}
