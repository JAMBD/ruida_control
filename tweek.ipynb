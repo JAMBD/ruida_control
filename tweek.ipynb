{
 "cells": [
  {
   "cell_type": "code",
   "execution_count": 4,
   "id": "sapphire-interest",
   "metadata": {},
   "outputs": [
    {
     "data": {
      "text/plain": [
       "<module 'decode' from '/home/bagel/lasercutter/decode.py'>"
      ]
     },
     "execution_count": 4,
     "metadata": {},
     "output_type": "execute_result"
    }
   ],
   "source": [
    "from matplotlib import pyplot as plt\n",
    "import matplotlib as mpl\n",
    "from dataclasses import dataclass\n",
    "import decode\n",
    "import numpy as np\n",
    "import importlib\n",
    "importlib.reload(decode)"
   ]
  },
  {
   "cell_type": "code",
   "execution_count": 5,
   "id": "alpha-arthritis",
   "metadata": {},
   "outputs": [
    {
     "name": "stdout",
     "output_type": "stream",
     "text": [
      "UploadFollows(cmd=CmdCode(code=[216, 18], length=2))\n",
      "E732(cmd=CmdCode(code=[231, 50], length=2), x=AbsValue(value=352454423, length=5, signed=False), y=AbsValue(value=352454423, length=5, signed=False))\n",
      "F0(cmd=CmdCode(code=[240], length=1))\n",
      "Start2(cmd=CmdCode(code=[241, 2, 0], length=3))\n",
      "LightRed(cmd=CmdCode(code=[216, 0], length=2))\n",
      "Feedrate(cmd=CmdCode(code=[231, 6], length=2), x=AbsValue(value=0, length=5, signed=False), y=AbsValue(value=0, length=5, signed=False))\n",
      "E738(cmd=CmdCode(code=[231, 56, 0], length=3))\n",
      "Laser1TopLeft(cmd=CmdCode(code=[231, 3], length=2), x=AbsValue(value=0, length=5, signed=False), y=AbsValue(value=0, length=5, signed=False))\n",
      "Laser1BottomRight(cmd=CmdCode(code=[231, 7], length=2), x=AbsValue(value=10000, length=5, signed=False), y=AbsValue(value=10000, length=5, signed=False))\n",
      "Laser2TopLeft(cmd=CmdCode(code=[231, 80], length=2), x=AbsValue(value=0, length=5, signed=False), y=AbsValue(value=0, length=5, signed=False))\n",
      "Laser2BottomRight(cmd=CmdCode(code=[231, 81], length=2), x=AbsValue(value=10000, length=5, signed=False), y=AbsValue(value=10000, length=5, signed=False))\n",
      "E704(cmd=CmdCode(code=[231, 4], length=2), a=Unknown2(value=1, length=2, signed=False), b=Unknown2(value=1, length=2, signed=False), x=AbsValue(value=0, length=5, signed=False), y=AbsValue(value=0, length=5, signed=False))\n",
      "E705(cmd=CmdCode(code=[231, 5, 0], length=3))\n",
      "LayerSpeed(cmd=CmdCode(code=[201, 4], length=2), layer=Layer(value=0, length=1, signed=False), speed=Speed(value=100000, length=5, signed=False))\n",
      "LayerLaser1MinPower(cmd=CmdCode(code=[198, 49], length=2), layer=Layer(value=0, length=1, signed=False), power=Power(value=819, length=2, signed=False))\n",
      "LayerLaser1MaxPower(cmd=CmdCode(code=[198, 50], length=2), layer=Layer(value=0, length=1, signed=False), power=Power(value=819, length=2, signed=False))\n",
      "LayerLaser2MinPower(cmd=CmdCode(code=[198, 65], length=2), layer=Layer(value=0, length=1, signed=False), power=Power(value=819, length=2, signed=False))\n",
      "LayerLaser2MaxPower(cmd=CmdCode(code=[198, 66], length=2), layer=Layer(value=0, length=1, signed=False), power=Power(value=819, length=2, signed=False))\n",
      "LayerColor(cmd=CmdCode(code=[202, 6], length=2), layer=Layer(value=0, length=1, signed=False), color=Color(value=0, length=5, signed=False))\n",
      "LayerCA41(cmd=CmdCode(code=[202, 65], length=2), layer=Layer(value=0, length=1, signed=False), u0=Unknown(value=0, length=1, signed=False))\n",
      "LayerLaser1TopLeft(cmd=CmdCode(code=[231, 82], length=2), layer=Layer(value=0, length=1, signed=False), x=AbsValue(value=0, length=5, signed=False), y=AbsValue(value=0, length=5, signed=False))\n",
      "LayerLaser1BottomRight(cmd=CmdCode(code=[231, 83], length=2), layer=Layer(value=0, length=1, signed=False), x=AbsValue(value=10000, length=5, signed=False), y=AbsValue(value=10000, length=5, signed=False))\n",
      "LayerLaser2TopLeft(cmd=CmdCode(code=[231, 97], length=2), layer=Layer(value=0, length=1, signed=False), x=AbsValue(value=0, length=5, signed=False), y=AbsValue(value=0, length=5, signed=False))\n",
      "LayerLaser2BottomRight(cmd=CmdCode(code=[231, 98], length=2), layer=Layer(value=0, length=1, signed=False), x=AbsValue(value=10000, length=5, signed=False), y=AbsValue(value=10000, length=5, signed=False))\n",
      "LayerCount(cmd=CmdCode(code=[202, 34], length=2), layer_count=Layer(value=0, length=1, signed=False))\n",
      "PenYOffset(cmd=CmdCode(code=[231, 84], length=2), device=Device(value=0, length=1, signed=False), y=AbsValue(value=0, length=5, signed=False))\n",
      "PenYOffset(cmd=CmdCode(code=[231, 84], length=2), device=Device(value=1, length=1, signed=False), y=AbsValue(value=0, length=5, signed=False))\n",
      "LaserYOffset(cmd=CmdCode(code=[231, 85], length=2), device=Device(value=0, length=1, signed=False), y=AbsValue(value=0, length=5, signed=False))\n",
      "LaserYOffset(cmd=CmdCode(code=[231, 85], length=2), device=Device(value=1, length=1, signed=False), y=AbsValue(value=0, length=5, signed=False))\n",
      "Offset(cmd=CmdCode(code=[241, 3], length=2), x=AbsValue(value=0, length=5, signed=False), y=AbsValue(value=0, length=5, signed=False))\n",
      "Start0(cmd=CmdCode(code=[241, 0, 0], length=3))\n",
      "Start1(cmd=CmdCode(code=[241, 1, 0], length=3))\n",
      "F200(cmd=CmdCode(code=[242, 0, 0], length=3))\n",
      "Offset2(cmd=CmdCode(code=[242, 3], length=2), x=AbsValue(value=0, length=5, signed=False), y=AbsValue(value=0, length=5, signed=False))\n",
      "BottomRight(cmd=CmdCode(code=[242, 4], length=2), x=AbsValue(value=10000, length=5, signed=False), y=AbsValue(value=10000, length=5, signed=False))\n",
      "F205(cmd=CmdCode(code=[242, 5], length=2), a=Unknown2(value=1, length=2, signed=False), b=Unknown2(value=1, length=2, signed=False), x=AbsValue(value=10000, length=5, signed=False), y=AbsValue(value=10000, length=5, signed=False))\n",
      "F206(cmd=CmdCode(code=[242, 6], length=2), x=AbsValue(value=0, length=5, signed=False), y=AbsValue(value=0, length=5, signed=False))\n",
      "F207(cmd=CmdCode(code=[242, 7, 0], length=3))\n",
      "F208(cmd=CmdCode(code=[242, 8], length=2), x=AbsValue(value=10000, length=5, signed=False), y=AbsValue(value=10000, length=5, signed=False))\n",
      "E70A(cmd=CmdCode(code=[231, 10], length=2), a=AbsValue(value=0, length=5, signed=False))\n",
      "EA00(cmd=CmdCode(code=[234, 0], length=2))\n",
      "E760(cmd=CmdCode(code=[231, 96, 0, 0], length=4))\n",
      "E300(cmd=CmdCode(code=[227, 0], length=2))\n",
      "E70B(cmd=CmdCode(code=[231, 11, 0], length=3))\n",
      "E713(cmd=CmdCode(code=[231, 19], length=2), a=AbsValue(value=0, length=5, signed=False), b=AbsValue(value=0, length=5, signed=False))\n",
      "E717(cmd=CmdCode(code=[231, 23], length=2), a=AbsValue(value=10000, length=5, signed=False), b=AbsValue(value=10000, length=5, signed=False))\n",
      "E723(cmd=CmdCode(code=[231, 35], length=2), a=AbsValue(value=0, length=5, signed=False), b=AbsValue(value=0, length=5, signed=False))\n",
      "E724(cmd=CmdCode(code=[231, 36, 0], length=3))\n",
      "E737(cmd=CmdCode(code=[231, 55], length=2), a=AbsValue(value=10000, length=5, signed=False), b=AbsValue(value=10000, length=5, signed=False))\n",
      "E708(cmd=CmdCode(code=[231, 8], length=2), unknown_a=Unknown2(value=1, length=2, signed=False), unknown_b=Unknown2(value=1, length=2, signed=False), x=AbsValue(value=10000, length=5, signed=False), y=AbsValue(value=10000, length=5, signed=False))\n",
      "EnableDevice(cmd=CmdCode(code=[202, 1], length=2), device=Device(value=0, length=1, signed=False))\n",
      "ChangeLayer(cmd=CmdCode(code=[202, 2], length=2), layer=Layer(value=0, length=1, signed=False))\n",
      "EnableDevice(cmd=CmdCode(code=[202, 1], length=2), device=Device(value=48, length=1, signed=False))\n",
      "EnableDevice(cmd=CmdCode(code=[202, 1], length=2), device=Device(value=16, length=1, signed=False))\n",
      "EnableDevice(cmd=CmdCode(code=[202, 1], length=2), device=Device(value=19, length=1, signed=False))\n",
      "CutSpeed(cmd=CmdCode(code=[201, 2], length=2), speed=Speed(value=100000, length=5, signed=False))\n",
      "CutOpenDelay(cmd=CmdCode(code=[198, 18], length=2), ms=MilliSeconds(value=0, length=5, signed=False))\n",
      "CutCloseDelay(cmd=CmdCode(code=[198, 19], length=2), ms=MilliSeconds(value=0, length=5, signed=False))\n",
      "CutPower1(cmd=CmdCode(code=[198, 80], length=2), power=Power(value=8191, length=2, signed=False))\n",
      "CutPower2(cmd=CmdCode(code=[198, 81], length=2), power=Power(value=8191, length=2, signed=False))\n",
      "Laser1MinPower(cmd=CmdCode(code=[198, 1], length=2), power=Power(value=819, length=2, signed=False))\n",
      "Laser1MaxPower(cmd=CmdCode(code=[198, 2], length=2), power=Power(value=819, length=2, signed=False))\n",
      "Laser2MinPower(cmd=CmdCode(code=[198, 33], length=2), power=Power(value=819, length=2, signed=False))\n",
      "Laser2MaxPower(cmd=CmdCode(code=[198, 34], length=2), power=Power(value=819, length=2, signed=False))\n",
      "CA03(cmd=CmdCode(code=[202, 3], length=2), unknown=Unknown(value=63, length=1, signed=False))\n",
      "CA10(cmd=CmdCode(code=[202, 16], length=2), unknown=Unknown(value=0, length=1, signed=False))\n",
      "MoveAbs(cmd=CmdCode(code=[136], length=1), x=AbsValue(value=0, length=5, signed=False), y=AbsValue(value=0, length=5, signed=False))\n",
      "CutAbs(cmd=CmdCode(code=[168], length=1), x=AbsValue(value=10000, length=5, signed=False), y=AbsValue(value=0, length=5, signed=False))\n",
      "CutAbs(cmd=CmdCode(code=[168], length=1), x=AbsValue(value=10000, length=5, signed=False), y=AbsValue(value=10000, length=5, signed=False))\n",
      "CutAbs(cmd=CmdCode(code=[168], length=1), x=AbsValue(value=0, length=5, signed=False), y=AbsValue(value=10000, length=5, signed=False))\n",
      "CutAbs(cmd=CmdCode(code=[168], length=1), x=AbsValue(value=0, length=5, signed=False), y=AbsValue(value=0, length=5, signed=False))\n",
      "E4(cmd=CmdCode(code=[228], length=1))\n",
      "Finish(cmd=CmdCode(code=[235], length=1))\n",
      "E700(cmd=CmdCode(code=[231, 0], length=2))\n",
      "DA01(cmd=CmdCode(code=[218, 1], length=2), a=Unknown2(value=800, length=2, signed=False), x=AbsValue(value=40, length=5, signed=False), y=AbsValue(value=40, length=5, signed=False))\n",
      "EOF(cmd=CmdCode(code=[215], length=1))\n"
     ]
    }
   ],
   "source": [
    "filename = \"box.rd\"\n",
    "with open(filename, \"rb\") as f:\n",
    "    data = decode.unscramble(f.read())\n",
    "cmds = decode.parse_msgs(decode.split_msg(data))\n",
    "for i in cmds:\n",
    "    print(i)"
   ]
  },
  {
   "cell_type": "code",
   "execution_count": 19,
   "id": "outstanding-whale",
   "metadata": {},
   "outputs": [],
   "source": [
    "layers = []\n",
    "for x in range(5):\n",
    "    for y in range(5):\n",
    "        layers.append(decode.LayerData(\n",
    "            color=(0, (x+1)/5.0, (y+1) / 5.0),\n",
    "            layer=x * 5 + y,\n",
    "            min_power=decode.scale_power((x + 1) * 20),\n",
    "            max_power=decode.scale_power((x + 1) * 20),\n",
    "            speed= (10 * (y + 1)) * 1000,\n",
    "            x_min=0, y_min=0,\n",
    "            x_max=0, y_max=0))\n",
    "\n",
    "\n",
    "unpacked_msgs = decode.header(50000, 50000, layers)\n",
    "\n",
    "\n",
    "for x in range(5):\n",
    "    for y in range(5):\n",
    "        unpacked_msgs += layers[x * 5 + y].change_header()\n",
    "        \n",
    "        unpacked_msgs += [\n",
    "            decode.MoveAbs.from_values(x=int(0 + x * 10000), y=int(0 + y * 10000)),\n",
    "            decode.CutAbs.from_values(x=int(6000 + x * 10000), y=int(0 + y * 10000)),\n",
    "            decode.CutAbs.from_values(x=int(6000 + x * 10000), y=int(6000 + y * 10000)),\n",
    "            decode.CutAbs.from_values(x=int(0 + x * 10000), y=int(6000 + y * 10000)),\n",
    "            decode.CutAbs.from_values(x=int(0 + x * 10000), y=int(0 + y * 10000))]\n",
    "unpacked_msgs += decode.footer(80,80)"
   ]
  },
  {
   "cell_type": "code",
   "execution_count": 16,
   "id": "automotive-brisbane",
   "metadata": {},
   "outputs": [],
   "source": [
    "repacked = []\n",
    "    \n",
    "for i in unpacked_msgs:\n",
    "    if isinstance(i, decode.CmdMsg):\n",
    "        repacked += i.pack()\n",
    "        continue\n",
    "    repacked += i\n",
    "\n",
    "out_filename = \"repacked.rd\"\n",
    "with open(out_filename, \"wb\") as f:\n",
    "    f.write(bytearray(decode.scramble(repacked)))"
   ]
  },
  {
   "cell_type": "code",
   "execution_count": 18,
   "id": "national-asset",
   "metadata": {},
   "outputs": [
    {
     "data": {
      "image/png": "[encoded data removed]",
      "text/plain": [
       "<Figure size 720x360 with 1 Axes>"
      ]
     },
     "metadata": {
      "needs_background": "light"
     },
     "output_type": "display_data"
    }
   ],
   "source": [
    "# Output file inspection\n",
    "\n",
    "with open(out_filename, \"rb\") as f:\n",
    "    data = decode.unscramble(f.read())\n",
    "cmds = decode.parse_msgs(decode.split_msg(data))\n",
    "laser_sim = decode.LaserSimulator()\n",
    "\n",
    "for i in cmds:\n",
    "    if isinstance(i, decode.CmdMsg):\n",
    "        i.update(laser_sim)\n",
    "laser_sim.show()\n"
   ]
  }
 ],
 "metadata": {
  "kernelspec": {
   "display_name": "Python 3",
   "language": "python",
   "name": "python3"
  },
  "language_info": {
   "codemirror_mode": {
    "name": "ipython",
    "version": 3
   },
   "file_extension": ".py",
   "mimetype": "text/x-python",
   "name": "python",
   "nbconvert_exporter": "python",
   "pygments_lexer": "ipython3",
   "version": "3.6.9"
  }
 },
 "nbformat": 4,
 "nbformat_minor": 5
}
