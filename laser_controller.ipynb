{
 "cells": [
  {
   "cell_type": "code",
   "execution_count": 9,
   "metadata": {},
   "outputs": [],
   "source": [
    "import serial\n",
    "import time"
   ]
  },
  {
   "cell_type": "code",
   "execution_count": 10,
   "metadata": {},
   "outputs": [],
   "source": [
    "def unscramble(data, magic=0x88):\n",
    "    rlt = []\n",
    "    for i in data:\n",
    "        a = (i + 0xFF) & 0xFF\n",
    "        b = a ^ magic\n",
    "        rlt.append((b & 0x7E) | ((b >> 7) & 0x01) | ((b << 7) & 0x80))\n",
    "    return rlt\n",
    "\n",
    "def scramble(data, magic=0x88):\n",
    "    rlt = []\n",
    "    for i in data:\n",
    "        a = (i & 0x7E) | ((i >> 7) & 0x01) | ((i << 7) & 0x80)\n",
    "        b = a ^ magic\n",
    "        rlt.append((b + 1) & 0xFF)\n",
    "    return rlt\n",
    "\n",
    "def reset_serial(s):\n",
    "    s.setDTR(False)\n",
    "    s.setRTS(False)\n",
    "    time.sleep(0.1)\n",
    "    \n",
    "def init_serial(s):\n",
    "    s.setDTR(False)\n",
    "    s.setRTS(True)\n",
    "    time.sleep(0.005)\n",
    "    s.setDTR(True)\n",
    "    s.setRTS(False)"
   ]
  },
  {
   "cell_type": "code",
   "execution_count": 11,
   "metadata": {},
   "outputs": [],
   "source": [
    "s = serial.Serial()\n",
    "s.port = \"/dev/ttyUSB0\"\n",
    "s.baudrate = 38400\n",
    "s.parity = serial.PARITY_NONE\n",
    "s.stopbits = serial.STOPBITS_ONE\n",
    "s.timeout = 1\n",
    "s.open()"
   ]
  },
  {
   "cell_type": "code",
   "execution_count": 46,
   "metadata": {},
   "outputs": [
    {
     "name": "stdout",
     "output_type": "stream",
     "text": [
      "Listing files:\n",
      "\u0000\n",
      "POGO\u0000\n",
      "BASE\u0000\n",
      "HOLES\u0000\n",
      "SLOT\u0000\n",
      "CAP\u0000\n",
      "UNNAMEDP\u0000\n",
      "UNNAMEDW\u0000\n",
      "UNNAMED\u0000\n",
      "TEST\u0000\n",
      "TEST\u0000\n"
     ]
    }
   ],
   "source": [
    "reset_serial(s)\n",
    "init_serial(s)\n",
    "\n",
    "print(\"Listing files:\")\n",
    "file_index = 0\n",
    "while True:\n",
    "    s.write(scramble([0xe8, 0x01, 0x00, file_index]))\n",
    "    reply = []\n",
    "    while True:\n",
    "        data = s.read()\n",
    "        if not data:\n",
    "            break\n",
    "        reply.extend(unscramble(data))\n",
    "    if not reply:\n",
    "        break\n",
    "    print(bytes(reply[4:]).decode(\"utf8\"))\n",
    "    file_index += 1"
   ]
  },
  {
   "cell_type": "code",
   "execution_count": 27,
   "metadata": {},
   "outputs": [],
   "source": [
    "reset_serial(s)\n",
    "init_serial(s)\n",
    "s.write(scramble([0xE8, 0x02, 0xE7, 0x01] + list((\"TEST\").encode(\"utf-8\")) + [0x00]))\n",
    "with open(\"repacked.rd\", \"rb\") as f:\n",
    "    s.write(f.read())"
   ]
  },
  {
   "cell_type": "code",
   "execution_count": 52,
   "metadata": {},
   "outputs": [
    {
     "name": "stdout",
     "output_type": "stream",
     "text": [
      "[]\n"
     ]
    }
   ],
   "source": [
    "reset_serial(s)\n",
    "init_serial(s)\n",
    "s.write(scramble([0xe8, 0x03, 0x00, 0x02]))\n",
    "s.write(scramble([0xe8, 0x04]))\n",
    "\n",
    "reply = []\n",
    "while True:\n",
    "    data = s.read()\n",
    "    if not data:\n",
    "        break\n",
    "    reply.extend(unscramble(data))\n",
    "print(reply)"
   ]
  }
 ],
 "metadata": {
  "kernelspec": {
   "display_name": "Python 3",
   "language": "python",
   "name": "python3"
  },
  "language_info": {
   "codemirror_mode": {
    "name": "ipython",
    "version": 3
   },
   "file_extension": ".py",
   "mimetype": "text/x-python",
   "name": "python",
   "nbconvert_exporter": "python",
   "pygments_lexer": "ipython3",
   "version": "3.7.5"
  }
 },
 "nbformat": 4,
 "nbformat_minor": 2
}
